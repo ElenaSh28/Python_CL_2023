{
  "cells": [
    {
      "cell_type": "markdown",
      "metadata": {
        "id": "view-in-github",
        "colab_type": "text"
      },
      "source": [
        "<a href=\"https://colab.research.google.com/github/ElenaSh28/Python_CL_2023/blob/main/%D0%9A%D0%BE%D0%BF%D0%B8%D1%8F_%D0%B1%D0%BB%D0%BE%D0%BA%D0%BD%D0%BE%D1%82%D0%B0_%22Python_10_pandas_ipynb%22.ipynb\" target=\"_parent\"><img src=\"https://colab.research.google.com/assets/colab-badge.svg\" alt=\"Open In Colab\"/></a>"
      ]
    },
    {
      "cell_type": "code",
      "source": [
        "# еще до pandas - важная вещь про вычисления на Python\n",
        "l1 = [1, 2, 3, 6, 10]\n",
        "l2 = [6, 2, 4, 5, 55]\n",
        "\n",
        "# что будет, если сложить l1 + l2?\n",
        "# для программистов на R: а что было бы в R?\n",
        "\n",
        "print(l1 + l2)"
      ],
      "metadata": {
        "id": "13hi_oDyZFjD",
        "colab": {
          "base_uri": "https://localhost:8080/"
        },
        "outputId": "40594c35-9e40-4147-d861-4db4a5a6f27c"
      },
      "execution_count": 1,
      "outputs": [
        {
          "output_type": "stream",
          "name": "stdout",
          "text": [
            "[1, 2, 3, 6, 10, 6, 2, 4, 5, 55]\n"
          ]
        }
      ]
    },
    {
      "cell_type": "code",
      "source": [
        "!pip install numpy # скорее всего, у вас установлены numpy и pandas - но вдруг\n",
        "import numpy as np\n",
        "\n",
        "l1 = np.array(l1) # вектор, доступно больше вычислений\n",
        "l2 = np.array(l2)\n",
        "print(l1 + l2)"
      ],
      "metadata": {
        "id": "RqTm1C96ZXDc",
        "colab": {
          "base_uri": "https://localhost:8080/"
        },
        "outputId": "6816c49a-64e9-4b83-f793-58d7ddf20e10"
      },
      "execution_count": 2,
      "outputs": [
        {
          "output_type": "stream",
          "name": "stdout",
          "text": [
            "Requirement already satisfied: numpy in /usr/local/lib/python3.10/dist-packages (1.23.5)\n",
            "[ 7  4  7 11 65]\n"
          ]
        }
      ]
    },
    {
      "cell_type": "markdown",
      "metadata": {
        "id": "LchzhkUv1OnX"
      },
      "source": [
        "#pandas\n",
        "pandas - библиотека, которая позволяет работать с табличными данными"
      ]
    },
    {
      "cell_type": "code",
      "execution_count": null,
      "metadata": {
        "id": "dy_UDg8kL5Vc"
      },
      "outputs": [],
      "source": [
        "!pip install pandas # если pandas не установлен, следует запустить эту ячейку"
      ]
    },
    {
      "cell_type": "code",
      "execution_count": null,
      "metadata": {
        "id": "mu_R9WN2MFeQ"
      },
      "outputs": [],
      "source": [
        "import pandas as pd # теперь импортируем pandas в тетрадку / .py файл с кодом"
      ]
    },
    {
      "cell_type": "markdown",
      "metadata": {
        "id": "dDSmXeLaTh4U"
      },
      "source": [
        "документация для pandas [лежит здесь](https://pandas.pydata.org/pandas-docs/stable/getting_started/tutorials.html)\n",
        "\n",
        "Основные элементы \"табличек в pandas\" - это Series и Dataframe\n",
        "\n",
        "Series - это объект, похожий на одномерный массив (как обычный список в питоне) с элементами и  индексами вдоль каждого элемента из списка.\n",
        "\n",
        "DataFrame \"собирается\" из таких Series"
      ]
    },
    {
      "cell_type": "markdown",
      "metadata": {
        "id": "YwQGRoCkO4y1"
      },
      "source": [
        "<img alt=\"Series vs DataFrame\" height=\"300\" width=\"700\" src=\"https://storage.googleapis.com/lds-media/images/series-and-dataframe.width-1200.png\" >"
      ]
    },
    {
      "cell_type": "markdown",
      "metadata": {
        "tags": [],
        "id": "LpTdm4gfELXK"
      },
      "source": [
        "# Создание датафрейма"
      ]
    },
    {
      "cell_type": "markdown",
      "metadata": {
        "id": "-58DzZXTELXL"
      },
      "source": [
        "Создать датафрейм можно двумя способами:\n",
        "- из словаря методом pd.DataFrame.from_dict()\n",
        "- прочитав .csv файл\n",
        "\n",
        "попробуем оба способа\n",
        "\n",
        "### Первый способ"
      ]
    },
    {
      "cell_type": "code",
      "source": [
        "b = [[1, 2.1], [3, 4.444, 5]] # самый удобный вариант\n",
        "b_df = pd.DataFrame(b) # краткий способ\n",
        "b_df\n",
        "# pd.DataFrame - обращение к библиотеке, создай таблицу (датафрейм)\n",
        "# b_df, df, data - любые названия, ваша таблица с данными"
      ],
      "metadata": {
        "id": "995oUceid5eq",
        "colab": {
          "base_uri": "https://localhost:8080/",
          "height": 245
        },
        "outputId": "be3f2d87-8589-40c9-c3e3-fc0500ae1a9e"
      },
      "execution_count": 3,
      "outputs": [
        {
          "output_type": "error",
          "ename": "NameError",
          "evalue": "ignored",
          "traceback": [
            "\u001b[0;31m---------------------------------------------------------------------------\u001b[0m",
            "\u001b[0;31mNameError\u001b[0m                                 Traceback (most recent call last)",
            "\u001b[0;32m<ipython-input-3-89426f753f25>\u001b[0m in \u001b[0;36m<cell line: 2>\u001b[0;34m()\u001b[0m\n\u001b[1;32m      1\u001b[0m \u001b[0mb\u001b[0m \u001b[0;34m=\u001b[0m \u001b[0;34m[\u001b[0m\u001b[0;34m[\u001b[0m\u001b[0;36m1\u001b[0m\u001b[0;34m,\u001b[0m \u001b[0;36m2.1\u001b[0m\u001b[0;34m]\u001b[0m\u001b[0;34m,\u001b[0m \u001b[0;34m[\u001b[0m\u001b[0;36m3\u001b[0m\u001b[0;34m,\u001b[0m \u001b[0;36m4.444\u001b[0m\u001b[0;34m,\u001b[0m \u001b[0;36m5\u001b[0m\u001b[0;34m]\u001b[0m\u001b[0;34m]\u001b[0m \u001b[0;31m# самый удобный вариант\u001b[0m\u001b[0;34m\u001b[0m\u001b[0;34m\u001b[0m\u001b[0m\n\u001b[0;32m----> 2\u001b[0;31m \u001b[0mb_df\u001b[0m \u001b[0;34m=\u001b[0m \u001b[0mpd\u001b[0m\u001b[0;34m.\u001b[0m\u001b[0mDataFrame\u001b[0m\u001b[0;34m(\u001b[0m\u001b[0mb\u001b[0m\u001b[0;34m)\u001b[0m \u001b[0;31m# краткий способ\u001b[0m\u001b[0;34m\u001b[0m\u001b[0;34m\u001b[0m\u001b[0m\n\u001b[0m\u001b[1;32m      3\u001b[0m \u001b[0mb_df\u001b[0m\u001b[0;34m\u001b[0m\u001b[0;34m\u001b[0m\u001b[0m\n\u001b[1;32m      4\u001b[0m \u001b[0;31m# pd.DataFrame - обращение к библиотеке, создай таблицу (датафрейм)\u001b[0m\u001b[0;34m\u001b[0m\u001b[0;34m\u001b[0m\u001b[0m\n\u001b[1;32m      5\u001b[0m \u001b[0;31m# b_df, df, data - любые названия, ваша таблица с данными\u001b[0m\u001b[0;34m\u001b[0m\u001b[0;34m\u001b[0m\u001b[0m\n",
            "\u001b[0;31mNameError\u001b[0m: name 'pd' is not defined"
          ]
        }
      ]
    },
    {
      "cell_type": "code",
      "source": [
        "# в PyChram - пишем print(b_df)\n",
        "# в тетрадках - лучше без - в режиме display()\n",
        "\n",
        "print(b_df)\n",
        "b_df"
      ],
      "metadata": {
        "id": "_A36LX4oE5RQ",
        "colab": {
          "base_uri": "https://localhost:8080/",
          "height": 227
        },
        "outputId": "58951230-819e-4863-d07a-34510991d15f"
      },
      "execution_count": 4,
      "outputs": [
        {
          "output_type": "error",
          "ename": "NameError",
          "evalue": "ignored",
          "traceback": [
            "\u001b[0;31m---------------------------------------------------------------------------\u001b[0m",
            "\u001b[0;31mNameError\u001b[0m                                 Traceback (most recent call last)",
            "\u001b[0;32m<ipython-input-4-928d2c817de5>\u001b[0m in \u001b[0;36m<cell line: 4>\u001b[0;34m()\u001b[0m\n\u001b[1;32m      2\u001b[0m \u001b[0;31m# в тетрадках - лучше без - в режиме display()\u001b[0m\u001b[0;34m\u001b[0m\u001b[0;34m\u001b[0m\u001b[0m\n\u001b[1;32m      3\u001b[0m \u001b[0;34m\u001b[0m\u001b[0m\n\u001b[0;32m----> 4\u001b[0;31m \u001b[0mprint\u001b[0m\u001b[0;34m(\u001b[0m\u001b[0mb_df\u001b[0m\u001b[0;34m)\u001b[0m\u001b[0;34m\u001b[0m\u001b[0;34m\u001b[0m\u001b[0m\n\u001b[0m\u001b[1;32m      5\u001b[0m \u001b[0mb_df\u001b[0m\u001b[0;34m\u001b[0m\u001b[0;34m\u001b[0m\u001b[0m\n",
            "\u001b[0;31mNameError\u001b[0m: name 'b_df' is not defined"
          ]
        }
      ]
    },
    {
      "cell_type": "code",
      "execution_count": null,
      "metadata": {
        "id": "6Vy_M6tPMQCE"
      },
      "outputs": [],
      "source": [
        "# можно создать датафрейм не только из списка списков, а например, напрямую из словаря\n",
        "\n",
        "data = {\n",
        "    \"Maria\":[\"London\", 37],\n",
        "    \"Lorenzo\":[\"Milan\", 28],\n",
        "    \"Oleg\":[\"Canberra\", 31],\n",
        "    \"Hans\":[\"Calgary\", 80],\n",
        "    \"Mark\":[\"Milan\", 55],\n",
        "    \"Alex\":[\"Krakow\", 35],\n",
        "    \"Julia\":[\"Murmansk\", 43]\n",
        "}\n",
        "\n",
        "# шаг 2 используем метод pd.DataFrame.from_dict()\n",
        "# аргументом подадим созданный словарь\n",
        "\n",
        "postcards = pd.DataFrame.from_dict(data).T.rename(columns={0:\"city\", 1:\"age\"})\n",
        "postcards\n",
        "# print(postcards)"
      ]
    },
    {
      "cell_type": "code",
      "source": [
        "pd.DataFrame.from_dict(data)\n",
        "# print(pd.DataFrame.from_dict(data))"
      ],
      "metadata": {
        "id": "7OLrdYYfEmtB",
        "colab": {
          "base_uri": "https://localhost:8080/",
          "height": 192
        },
        "outputId": "e924fc1e-5c29-49c7-faa2-3c1e4dad483a"
      },
      "execution_count": 5,
      "outputs": [
        {
          "output_type": "error",
          "ename": "NameError",
          "evalue": "ignored",
          "traceback": [
            "\u001b[0;31m---------------------------------------------------------------------------\u001b[0m",
            "\u001b[0;31mNameError\u001b[0m                                 Traceback (most recent call last)",
            "\u001b[0;32m<ipython-input-5-e64069d1b1b2>\u001b[0m in \u001b[0;36m<cell line: 1>\u001b[0;34m()\u001b[0m\n\u001b[0;32m----> 1\u001b[0;31m \u001b[0mpd\u001b[0m\u001b[0;34m.\u001b[0m\u001b[0mDataFrame\u001b[0m\u001b[0;34m.\u001b[0m\u001b[0mfrom_dict\u001b[0m\u001b[0;34m(\u001b[0m\u001b[0mdata\u001b[0m\u001b[0;34m)\u001b[0m\u001b[0;34m\u001b[0m\u001b[0;34m\u001b[0m\u001b[0m\n\u001b[0m\u001b[1;32m      2\u001b[0m \u001b[0;31m# print(pd.DataFrame.from_dict(data))\u001b[0m\u001b[0;34m\u001b[0m\u001b[0;34m\u001b[0m\u001b[0m\n",
            "\u001b[0;31mNameError\u001b[0m: name 'pd' is not defined"
          ]
        }
      ]
    },
    {
      "cell_type": "code",
      "source": [
        "pd.DataFrame.from_dict(data).T # T - транспонировать (как в Excel!)\n",
        "# print(pd.DataFrame.from_dict(data).T)"
      ],
      "metadata": {
        "id": "kJgQwbjWFenN",
        "colab": {
          "base_uri": "https://localhost:8080/",
          "height": 192
        },
        "outputId": "c48ab9b8-368a-4482-c430-cdaa7bc257f9"
      },
      "execution_count": 6,
      "outputs": [
        {
          "output_type": "error",
          "ename": "NameError",
          "evalue": "ignored",
          "traceback": [
            "\u001b[0;31m---------------------------------------------------------------------------\u001b[0m",
            "\u001b[0;31mNameError\u001b[0m                                 Traceback (most recent call last)",
            "\u001b[0;32m<ipython-input-6-86321daacc3d>\u001b[0m in \u001b[0;36m<cell line: 1>\u001b[0;34m()\u001b[0m\n\u001b[0;32m----> 1\u001b[0;31m \u001b[0mpd\u001b[0m\u001b[0;34m.\u001b[0m\u001b[0mDataFrame\u001b[0m\u001b[0;34m.\u001b[0m\u001b[0mfrom_dict\u001b[0m\u001b[0;34m(\u001b[0m\u001b[0mdata\u001b[0m\u001b[0;34m)\u001b[0m\u001b[0;34m.\u001b[0m\u001b[0mT\u001b[0m \u001b[0;31m# T - транспонировать (как в Excel!)\u001b[0m\u001b[0;34m\u001b[0m\u001b[0;34m\u001b[0m\u001b[0m\n\u001b[0m\u001b[1;32m      2\u001b[0m \u001b[0;31m# print(pd.DataFrame.from_dict(data).T)\u001b[0m\u001b[0;34m\u001b[0m\u001b[0;34m\u001b[0m\u001b[0m\n",
            "\u001b[0;31mNameError\u001b[0m: name 'pd' is not defined"
          ]
        }
      ]
    },
    {
      "cell_type": "code",
      "source": [
        "# еще один вариант с помощью from_dict\n",
        "# вместо .T указываем orient=\"index\" внутри from_dict\n",
        "\n",
        "postcards = pd.DataFrame.from_dict(data, orient=\"index\").rename(columns={0:\"city\", 1:\"age\"})\n",
        "\n",
        "postcards\n",
        "# print(postcards)"
      ],
      "metadata": {
        "id": "EXRHCOzfL7xr",
        "colab": {
          "base_uri": "https://localhost:8080/",
          "height": 245
        },
        "outputId": "1c632e94-2be5-48d9-866b-2e6766fa92f6"
      },
      "execution_count": 7,
      "outputs": [
        {
          "output_type": "error",
          "ename": "NameError",
          "evalue": "ignored",
          "traceback": [
            "\u001b[0;31m---------------------------------------------------------------------------\u001b[0m",
            "\u001b[0;31mNameError\u001b[0m                                 Traceback (most recent call last)",
            "\u001b[0;32m<ipython-input-7-6f812160d357>\u001b[0m in \u001b[0;36m<cell line: 4>\u001b[0;34m()\u001b[0m\n\u001b[1;32m      2\u001b[0m \u001b[0;31m# вместо .T указываем orient=\"index\" внутри from_dict\u001b[0m\u001b[0;34m\u001b[0m\u001b[0;34m\u001b[0m\u001b[0m\n\u001b[1;32m      3\u001b[0m \u001b[0;34m\u001b[0m\u001b[0m\n\u001b[0;32m----> 4\u001b[0;31m \u001b[0mpostcards\u001b[0m \u001b[0;34m=\u001b[0m \u001b[0mpd\u001b[0m\u001b[0;34m.\u001b[0m\u001b[0mDataFrame\u001b[0m\u001b[0;34m.\u001b[0m\u001b[0mfrom_dict\u001b[0m\u001b[0;34m(\u001b[0m\u001b[0mdata\u001b[0m\u001b[0;34m,\u001b[0m \u001b[0morient\u001b[0m\u001b[0;34m=\u001b[0m\u001b[0;34m\"index\"\u001b[0m\u001b[0;34m)\u001b[0m\u001b[0;34m.\u001b[0m\u001b[0mrename\u001b[0m\u001b[0;34m(\u001b[0m\u001b[0mcolumns\u001b[0m\u001b[0;34m=\u001b[0m\u001b[0;34m{\u001b[0m\u001b[0;36m0\u001b[0m\u001b[0;34m:\u001b[0m\u001b[0;34m\"city\"\u001b[0m\u001b[0;34m,\u001b[0m \u001b[0;36m1\u001b[0m\u001b[0;34m:\u001b[0m\u001b[0;34m\"age\"\u001b[0m\u001b[0;34m}\u001b[0m\u001b[0;34m)\u001b[0m\u001b[0;34m\u001b[0m\u001b[0;34m\u001b[0m\u001b[0m\n\u001b[0m\u001b[1;32m      5\u001b[0m \u001b[0;34m\u001b[0m\u001b[0m\n\u001b[1;32m      6\u001b[0m \u001b[0mpostcards\u001b[0m\u001b[0;34m\u001b[0m\u001b[0;34m\u001b[0m\u001b[0m\n",
            "\u001b[0;31mNameError\u001b[0m: name 'pd' is not defined"
          ]
        }
      ]
    },
    {
      "cell_type": "markdown",
      "source": [
        "Альтернативный вариант"
      ],
      "metadata": {
        "id": "5BzBaKavmk25"
      }
    },
    {
      "cell_type": "code",
      "source": [
        "data = {\n",
        "    \"Maria\":[\"London\", 37],\n",
        "    \"Lorenzo\":[\"Milan\", 28],\n",
        "    \"Oleg\":[\"Canberra\", 31],\n",
        "    \"Hans\":[\"Calgary\", 80],\n",
        "    \"Mark\":[\"Milan\", 55],\n",
        "    \"Alex\":[\"Krakow\", 35],\n",
        "    \"Julia\":[\"Murmansk\", 43]\n",
        "}\n",
        "\n",
        "list(data.values())\n",
        "# print(list(data.values()))"
      ],
      "metadata": {
        "id": "yuLPXGrKeEWj"
      },
      "execution_count": null,
      "outputs": []
    },
    {
      "cell_type": "code",
      "source": [
        "names = list(data.keys()) # ключи = индекс таблицы\n",
        "v = list(data.values()) # значения = содержимое таблицы\n",
        "\n",
        "postcards = pd.DataFrame(v, index=names, columns=['city', 'age'])\n",
        "# postcards = pd.DataFrame(v) - основа таблицы\n",
        "# аргумент index - задает индекс датафрейма (имя строки)\n",
        "# аргумент columns - задает названия столбцов"
      ],
      "metadata": {
        "id": "I3QsKTaEWEo0"
      },
      "execution_count": null,
      "outputs": []
    },
    {
      "cell_type": "code",
      "source": [
        "postcards\n",
        "\n",
        "# print(postcards)"
      ],
      "metadata": {
        "id": "L6ZKfy5pE2Gt"
      },
      "execution_count": null,
      "outputs": []
    },
    {
      "cell_type": "markdown",
      "metadata": {
        "id": "fTRO_rdtELXN"
      },
      "source": [
        "### Второй способ"
      ]
    },
    {
      "cell_type": "code",
      "execution_count": 9,
      "metadata": {
        "tags": [],
        "id": "uvwnZBw2ELXO",
        "colab": {
          "base_uri": "https://localhost:8080/",
          "height": 245
        },
        "outputId": "2fe67c5a-c9f0-43ed-dd94-c83fcf5460a8"
      },
      "outputs": [
        {
          "output_type": "error",
          "ename": "NameError",
          "evalue": "ignored",
          "traceback": [
            "\u001b[0;31m---------------------------------------------------------------------------\u001b[0m",
            "\u001b[0;31mNameError\u001b[0m                                 Traceback (most recent call last)",
            "\u001b[0;32m<ipython-input-9-bd6c9a17ab53>\u001b[0m in \u001b[0;36m<cell line: 4>\u001b[0;34m()\u001b[0m\n\u001b[1;32m      2\u001b[0m \u001b[0;31m# Важно! Чтобы этот способ сработал, нужно указать путь до файла!\u001b[0m\u001b[0;34m\u001b[0m\u001b[0;34m\u001b[0m\u001b[0m\n\u001b[1;32m      3\u001b[0m \u001b[0;34m\u001b[0m\u001b[0m\n\u001b[0;32m----> 4\u001b[0;31m \u001b[0mrecipes\u001b[0m \u001b[0;34m=\u001b[0m \u001b[0mpd\u001b[0m\u001b[0;34m.\u001b[0m\u001b[0mread_csv\u001b[0m\u001b[0;34m(\u001b[0m\u001b[0;34m\"christmas_recipes.csv\"\u001b[0m\u001b[0;34m,\u001b[0m \u001b[0msep\u001b[0m\u001b[0;34m=\u001b[0m\u001b[0;34m','\u001b[0m\u001b[0;34m)\u001b[0m \u001b[0;31m# есть другие аргументы: sep, decimal и др.\u001b[0m\u001b[0;34m\u001b[0m\u001b[0;34m\u001b[0m\u001b[0m\n\u001b[0m\u001b[1;32m      5\u001b[0m \u001b[0mrecipes\u001b[0m\u001b[0;34m\u001b[0m\u001b[0;34m\u001b[0m\u001b[0m\n\u001b[1;32m      6\u001b[0m \u001b[0;34m\u001b[0m\u001b[0m\n",
            "\u001b[0;31mNameError\u001b[0m: name 'pd' is not defined"
          ]
        }
      ],
      "source": [
        "# прочитаем .csv файл методом pd.read_csv()\n",
        "# Важно! Чтобы этот способ сработал, нужно указать путь до файла!\n",
        "\n",
        "recipes = pd.read_csv(\"christmas_recipes.csv\", sep=',') # есть другие аргументы: sep, decimal и др.\n",
        "recipes\n",
        "\n",
        "# print(recipes)"
      ]
    },
    {
      "cell_type": "code",
      "source": [
        "# Важно!\n",
        "# С гитхаба csv читаются почти напрямую\n",
        "# Для этого нужна raw-ссылка\n",
        "\n",
        "recipes = pd.read_csv(\"https://raw.githubusercontent.com/AnnSenina/Python_CL_2023/main/data/christmas_recipes.csv\", sep=',')\n",
        "recipes\n",
        "\n",
        "# print(recipes)"
      ],
      "metadata": {
        "id": "Gmop1z-HGcH9",
        "colab": {
          "base_uri": "https://localhost:8080/",
          "height": 279
        },
        "outputId": "09e151dc-4895-4c13-bc6c-c2a353688760"
      },
      "execution_count": 8,
      "outputs": [
        {
          "output_type": "error",
          "ename": "NameError",
          "evalue": "ignored",
          "traceback": [
            "\u001b[0;31m---------------------------------------------------------------------------\u001b[0m",
            "\u001b[0;31mNameError\u001b[0m                                 Traceback (most recent call last)",
            "\u001b[0;32m<ipython-input-8-bd8228d14963>\u001b[0m in \u001b[0;36m<cell line: 5>\u001b[0;34m()\u001b[0m\n\u001b[1;32m      3\u001b[0m \u001b[0;31m# Для этого нужна raw-ссылка\u001b[0m\u001b[0;34m\u001b[0m\u001b[0;34m\u001b[0m\u001b[0m\n\u001b[1;32m      4\u001b[0m \u001b[0;34m\u001b[0m\u001b[0m\n\u001b[0;32m----> 5\u001b[0;31m \u001b[0mrecipes\u001b[0m \u001b[0;34m=\u001b[0m \u001b[0mpd\u001b[0m\u001b[0;34m.\u001b[0m\u001b[0mread_csv\u001b[0m\u001b[0;34m(\u001b[0m\u001b[0;34m\"https://raw.githubusercontent.com/AnnSenina/Python_CL_2023/main/data/christmas_recipes.csv\"\u001b[0m\u001b[0;34m,\u001b[0m \u001b[0msep\u001b[0m\u001b[0;34m=\u001b[0m\u001b[0;34m','\u001b[0m\u001b[0;34m)\u001b[0m\u001b[0;34m\u001b[0m\u001b[0;34m\u001b[0m\u001b[0m\n\u001b[0m\u001b[1;32m      6\u001b[0m \u001b[0mrecipes\u001b[0m\u001b[0;34m\u001b[0m\u001b[0;34m\u001b[0m\u001b[0m\n\u001b[1;32m      7\u001b[0m \u001b[0;34m\u001b[0m\u001b[0m\n",
            "\u001b[0;31mNameError\u001b[0m: name 'pd' is not defined"
          ]
        }
      ]
    },
    {
      "cell_type": "markdown",
      "metadata": {
        "id": "7kh4dxn5ELXO"
      },
      "source": [
        "### Как посмотреть на часть датафрейма\n",
        "\n",
        "понадобятся методы ```.head()```, ```.tail()``` или индексация"
      ]
    },
    {
      "cell_type": "code",
      "source": [
        "recipes.head(3) # по умолчанию показывает первые 5 строк"
      ],
      "metadata": {
        "id": "4TSZ4B2XHahR",
        "colab": {
          "base_uri": "https://localhost:8080/",
          "height": 175
        },
        "outputId": "a7d29e15-0de6-457f-ad4b-ed58a5306c65"
      },
      "execution_count": 10,
      "outputs": [
        {
          "output_type": "error",
          "ename": "NameError",
          "evalue": "ignored",
          "traceback": [
            "\u001b[0;31m---------------------------------------------------------------------------\u001b[0m",
            "\u001b[0;31mNameError\u001b[0m                                 Traceback (most recent call last)",
            "\u001b[0;32m<ipython-input-10-ca9582024590>\u001b[0m in \u001b[0;36m<cell line: 1>\u001b[0;34m()\u001b[0m\n\u001b[0;32m----> 1\u001b[0;31m \u001b[0mrecipes\u001b[0m\u001b[0;34m.\u001b[0m\u001b[0mhead\u001b[0m\u001b[0;34m(\u001b[0m\u001b[0;36m3\u001b[0m\u001b[0;34m)\u001b[0m \u001b[0;31m# по умолчанию показывает первые 5 строк\u001b[0m\u001b[0;34m\u001b[0m\u001b[0;34m\u001b[0m\u001b[0m\n\u001b[0m",
            "\u001b[0;31mNameError\u001b[0m: name 'recipes' is not defined"
          ]
        }
      ]
    },
    {
      "cell_type": "code",
      "execution_count": 11,
      "metadata": {
        "tags": [],
        "id": "zxFC4nNwELXP",
        "colab": {
          "base_uri": "https://localhost:8080/",
          "height": 175
        },
        "outputId": "a207096e-d827-40fb-ecc8-98d8e7fb3ffa"
      },
      "outputs": [
        {
          "output_type": "error",
          "ename": "NameError",
          "evalue": "ignored",
          "traceback": [
            "\u001b[0;31m---------------------------------------------------------------------------\u001b[0m",
            "\u001b[0;31mNameError\u001b[0m                                 Traceback (most recent call last)",
            "\u001b[0;32m<ipython-input-11-f47d4c3ef091>\u001b[0m in \u001b[0;36m<cell line: 1>\u001b[0;34m()\u001b[0m\n\u001b[0;32m----> 1\u001b[0;31m \u001b[0mrecipes\u001b[0m\u001b[0;34m.\u001b[0m\u001b[0mtail\u001b[0m\u001b[0;34m(\u001b[0m\u001b[0;36m2\u001b[0m\u001b[0;34m)\u001b[0m \u001b[0;31m# последние строки (по умолчанию их тоже 5)\u001b[0m\u001b[0;34m\u001b[0m\u001b[0;34m\u001b[0m\u001b[0m\n\u001b[0m",
            "\u001b[0;31mNameError\u001b[0m: name 'recipes' is not defined"
          ]
        }
      ],
      "source": [
        "recipes.tail(2) # последние строки (по умолчанию их тоже 5)"
      ]
    },
    {
      "cell_type": "code",
      "execution_count": 12,
      "metadata": {
        "tags": [],
        "id": "zLqLEkEtELXQ",
        "colab": {
          "base_uri": "https://localhost:8080/",
          "height": 175
        },
        "outputId": "ca3b87b2-df83-45a3-a0c6-7037286872de"
      },
      "outputs": [
        {
          "output_type": "error",
          "ename": "NameError",
          "evalue": "ignored",
          "traceback": [
            "\u001b[0;31m---------------------------------------------------------------------------\u001b[0m",
            "\u001b[0;31mNameError\u001b[0m                                 Traceback (most recent call last)",
            "\u001b[0;32m<ipython-input-12-2a3f6db7131c>\u001b[0m in \u001b[0;36m<cell line: 1>\u001b[0;34m()\u001b[0m\n\u001b[0;32m----> 1\u001b[0;31m \u001b[0mrecipes\u001b[0m\u001b[0;34m[\u001b[0m\u001b[0;36m15\u001b[0m\u001b[0;34m:\u001b[0m\u001b[0;36m18\u001b[0m\u001b[0;34m]\u001b[0m \u001b[0;31m# часть датафрейма по индексам строчек\u001b[0m\u001b[0;34m\u001b[0m\u001b[0;34m\u001b[0m\u001b[0m\n\u001b[0m",
            "\u001b[0;31mNameError\u001b[0m: name 'recipes' is not defined"
          ]
        }
      ],
      "source": [
        "recipes[15:18] # часть датафрейма по индексам строчек"
      ]
    },
    {
      "cell_type": "markdown",
      "metadata": {
        "tags": [],
        "id": "TEXAEugSELXQ"
      },
      "source": [
        "# Характеристики датафрейма"
      ]
    },
    {
      "cell_type": "code",
      "execution_count": 13,
      "metadata": {
        "id": "JdqZWwligQB8",
        "colab": {
          "base_uri": "https://localhost:8080/",
          "height": 227
        },
        "outputId": "34b9cad0-9864-4844-96be-4b8f8fbf9778"
      },
      "outputs": [
        {
          "output_type": "error",
          "ename": "NameError",
          "evalue": "ignored",
          "traceback": [
            "\u001b[0;31m---------------------------------------------------------------------------\u001b[0m",
            "\u001b[0;31mNameError\u001b[0m                                 Traceback (most recent call last)",
            "\u001b[0;32m<ipython-input-13-5a2ba995222f>\u001b[0m in \u001b[0;36m<cell line: 3>\u001b[0;34m()\u001b[0m\n\u001b[1;32m      1\u001b[0m \u001b[0;31m#размеры датафрейма\u001b[0m\u001b[0;34m\u001b[0m\u001b[0;34m\u001b[0m\u001b[0m\n\u001b[1;32m      2\u001b[0m \u001b[0;34m\u001b[0m\u001b[0m\n\u001b[0;32m----> 3\u001b[0;31m \u001b[0mprint\u001b[0m\u001b[0;34m(\u001b[0m\u001b[0mpostcards\u001b[0m\u001b[0;34m.\u001b[0m\u001b[0mshape\u001b[0m\u001b[0;34m)\u001b[0m\u001b[0;34m\u001b[0m\u001b[0;34m\u001b[0m\u001b[0m\n\u001b[0m\u001b[1;32m      4\u001b[0m \u001b[0mprint\u001b[0m\u001b[0;34m(\u001b[0m\u001b[0mrecipes\u001b[0m\u001b[0;34m.\u001b[0m\u001b[0mshape\u001b[0m\u001b[0;34m)\u001b[0m\u001b[0;34m\u001b[0m\u001b[0;34m\u001b[0m\u001b[0m\n",
            "\u001b[0;31mNameError\u001b[0m: name 'postcards' is not defined"
          ]
        }
      ],
      "source": [
        "#размеры датафрейма\n",
        "\n",
        "print(postcards.shape)\n",
        "print(recipes.shape)"
      ]
    },
    {
      "cell_type": "code",
      "execution_count": 14,
      "metadata": {
        "id": "4JCmo6dkELXR",
        "colab": {
          "base_uri": "https://localhost:8080/",
          "height": 227
        },
        "outputId": "2003a068-ead2-466e-b48c-e1812f297255"
      },
      "outputs": [
        {
          "output_type": "error",
          "ename": "NameError",
          "evalue": "ignored",
          "traceback": [
            "\u001b[0;31m---------------------------------------------------------------------------\u001b[0m",
            "\u001b[0;31mNameError\u001b[0m                                 Traceback (most recent call last)",
            "\u001b[0;32m<ipython-input-14-114383bd43d2>\u001b[0m in \u001b[0;36m<cell line: 3>\u001b[0;34m()\u001b[0m\n\u001b[1;32m      1\u001b[0m \u001b[0;31m# описание датафрейма\u001b[0m\u001b[0;34m\u001b[0m\u001b[0;34m\u001b[0m\u001b[0m\n\u001b[1;32m      2\u001b[0m \u001b[0;34m\u001b[0m\u001b[0m\n\u001b[0;32m----> 3\u001b[0;31m \u001b[0mprint\u001b[0m\u001b[0;34m(\u001b[0m\u001b[0mpostcards\u001b[0m\u001b[0;34m.\u001b[0m\u001b[0minfo\u001b[0m\u001b[0;34m(\u001b[0m\u001b[0;34m)\u001b[0m\u001b[0;34m)\u001b[0m\u001b[0;34m\u001b[0m\u001b[0;34m\u001b[0m\u001b[0m\n\u001b[0m\u001b[1;32m      4\u001b[0m \u001b[0mprint\u001b[0m\u001b[0;34m(\u001b[0m\u001b[0mrecipes\u001b[0m\u001b[0;34m.\u001b[0m\u001b[0minfo\u001b[0m\u001b[0;34m(\u001b[0m\u001b[0;34m)\u001b[0m\u001b[0;34m)\u001b[0m\u001b[0;34m\u001b[0m\u001b[0;34m\u001b[0m\u001b[0m\n",
            "\u001b[0;31mNameError\u001b[0m: name 'postcards' is not defined"
          ]
        }
      ],
      "source": [
        "# описание датафрейма\n",
        "\n",
        "print(postcards.info())\n",
        "print(recipes.info())"
      ]
    },
    {
      "cell_type": "code",
      "execution_count": 15,
      "metadata": {
        "id": "HowifKqZELXR",
        "colab": {
          "base_uri": "https://localhost:8080/",
          "height": 227
        },
        "outputId": "620494eb-2d8a-4a0b-d6bf-06c20325e91a"
      },
      "outputs": [
        {
          "output_type": "error",
          "ename": "NameError",
          "evalue": "ignored",
          "traceback": [
            "\u001b[0;31m---------------------------------------------------------------------------\u001b[0m",
            "\u001b[0;31mNameError\u001b[0m                                 Traceback (most recent call last)",
            "\u001b[0;32m<ipython-input-15-1d708c7747bd>\u001b[0m in \u001b[0;36m<cell line: 3>\u001b[0;34m()\u001b[0m\n\u001b[1;32m      1\u001b[0m \u001b[0;31m# .astype() позволяет изменить тип колонки, если нужно\u001b[0m\u001b[0;34m\u001b[0m\u001b[0;34m\u001b[0m\u001b[0m\n\u001b[1;32m      2\u001b[0m \u001b[0;34m\u001b[0m\u001b[0m\n\u001b[0;32m----> 3\u001b[0;31m \u001b[0mpostcards\u001b[0m\u001b[0;34m[\u001b[0m\u001b[0;34m\"age\"\u001b[0m\u001b[0;34m]\u001b[0m \u001b[0;34m=\u001b[0m \u001b[0mpostcards\u001b[0m\u001b[0;34m[\u001b[0m\u001b[0;34m\"age\"\u001b[0m\u001b[0;34m]\u001b[0m\u001b[0;34m.\u001b[0m\u001b[0mastype\u001b[0m\u001b[0;34m(\u001b[0m\u001b[0;34m\"int64\"\u001b[0m\u001b[0;34m)\u001b[0m\u001b[0;34m\u001b[0m\u001b[0;34m\u001b[0m\u001b[0m\n\u001b[0m\u001b[1;32m      4\u001b[0m \u001b[0mprint\u001b[0m\u001b[0;34m(\u001b[0m\u001b[0mpostcards\u001b[0m\u001b[0;34m.\u001b[0m\u001b[0minfo\u001b[0m\u001b[0;34m(\u001b[0m\u001b[0;34m)\u001b[0m\u001b[0;34m)\u001b[0m\u001b[0;34m\u001b[0m\u001b[0;34m\u001b[0m\u001b[0m\n",
            "\u001b[0;31mNameError\u001b[0m: name 'postcards' is not defined"
          ]
        }
      ],
      "source": [
        "# .astype() позволяет изменить тип колонки, если нужно\n",
        "\n",
        "postcards[\"age\"] = postcards[\"age\"].astype(\"int64\")\n",
        "print(postcards.info())"
      ]
    },
    {
      "cell_type": "markdown",
      "metadata": {
        "id": "e0hLMEflELXS"
      },
      "source": [
        "### Как посмотреть, где живет конкретный человек?\n",
        "\n",
        "Чтобы найти нужную строку, нам нужны индексы.\n",
        "Посмотрим на примере датасета с людьми и городами. У нашего датафрейма есть две оси: по строкам(нулевая, она же  index) и столбцам(первая, она же columns)\n"
      ]
    },
    {
      "cell_type": "code",
      "execution_count": null,
      "metadata": {
        "tags": [],
        "id": "8phBy7ExELXS"
      },
      "outputs": [],
      "source": [
        "print(postcards.index) # смотрим на индексы = имена строк (если они есть)"
      ]
    },
    {
      "cell_type": "code",
      "execution_count": null,
      "metadata": {
        "id": "brXnQmZ9q4Bo"
      },
      "outputs": [],
      "source": [
        "print(postcards.columns) # смотрим на столбцы"
      ]
    },
    {
      "cell_type": "code",
      "execution_count": null,
      "metadata": {
        "id": "eIGCunCwro1O"
      },
      "outputs": [],
      "source": [
        "# пересечение индексов выдаст конкретную ячейку: ищем где живет Мария\n",
        "\n",
        "print(postcards.loc['Maria'][\"city\"])"
      ]
    },
    {
      "cell_type": "markdown",
      "metadata": {
        "id": "ccIqghWAELXU"
      },
      "source": [
        "**Получить строку по индексу** можно двумя способами:\n",
        "\n",
        "- именной индекс, по \"названию\" строки в колонке \"Index\", (первая колонка датафрейма, у нас это имена людей)\n",
        "- порядковый индекс, по номеру строки в датафрейме (нумерация с 0)\n",
        "\n",
        "Для именного поиска понадобится метод ```.loc[]```, для порядкового -- ```.iloc[]```"
      ]
    },
    {
      "cell_type": "code",
      "execution_count": null,
      "metadata": {
        "id": "EOs3jobBELXU"
      },
      "outputs": [],
      "source": [
        "print(postcards.iloc[3])\n",
        "\n",
        "print(postcards.loc[\"Hans\"]) # только если индексы в датасете есть!"
      ]
    },
    {
      "cell_type": "markdown",
      "metadata": {
        "id": "QbKG3Ka5ELXV"
      },
      "source": [
        "**Указав название колонки**,  можно аналогично посмотреть все значения в ней"
      ]
    },
    {
      "cell_type": "code",
      "execution_count": null,
      "metadata": {
        "id": "r8uPANSTELXV"
      },
      "outputs": [],
      "source": [
        "postcards[\"age\"] # очень похоже на получение значения по ключу словаря\n",
        "\n",
        "# print(postcards[\"age\"])"
      ]
    },
    {
      "cell_type": "code",
      "source": [
        "# посмотрите на все города\n",
        "postcards['city'] # универсальный вариант\n",
        "\n",
        "# postcards.city # краткая запись\n",
        "# Только тогда, когда наш столбец назвается одним словом без пробелов латинскими буквами"
      ],
      "metadata": {
        "id": "rhXfxoOSJDDK"
      },
      "execution_count": null,
      "outputs": []
    },
    {
      "cell_type": "markdown",
      "metadata": {
        "tags": [],
        "id": "y-gg8AMjELXV"
      },
      "source": [
        "# Операции с датафреймами"
      ]
    },
    {
      "cell_type": "markdown",
      "metadata": {
        "tags": [],
        "id": "QpdAt5-hELXV"
      },
      "source": [
        "### Добавление колонок и строк в датафрейм"
      ]
    },
    {
      "cell_type": "markdown",
      "metadata": {
        "id": "6xG3z4Vov0Lq"
      },
      "source": [
        "В датафрейм можно добавить новые колонки: понадобится метод ```.assign()```"
      ]
    },
    {
      "cell_type": "code",
      "execution_count": null,
      "metadata": {
        "id": "q68INlyOv3wA"
      },
      "outputs": [],
      "source": [
        "postcards = postcards.assign(job=['Artist', \"Teacher\", \"Chef\", \"Artist\", \"Manager\", \"Chef\", \"Engineer\"])\n",
        "postcards\n",
        "\n",
        "# print(postcards)"
      ]
    },
    {
      "cell_type": "code",
      "source": [
        "# 2 способ - похож на добавление новой пары ключ-значение в словарь\n",
        "degrees = ['BA', 'MA', 'MA', 'PhD', 'Postdoc', 'BA', 'PhD']\n",
        "postcards[\"degree\"] = degrees\n",
        "\n",
        "postcards\n",
        "\n",
        "# print(postcards)"
      ],
      "metadata": {
        "id": "cWSJ-WVnJNtj"
      },
      "execution_count": null,
      "outputs": []
    },
    {
      "cell_type": "code",
      "source": [
        "# это очень похоже на добавление нового ключа в словарь\n",
        "d = {'Ann' : 27, 'Iliana' : 27}\n",
        "d['Daniil'] = 26\n",
        "d"
      ],
      "metadata": {
        "id": "uTjNKv4klOoV"
      },
      "execution_count": null,
      "outputs": []
    },
    {
      "cell_type": "markdown",
      "metadata": {
        "id": "8wI7nnyOx8kt"
      },
      "source": [
        "Добавить строки тоже можно:\n",
        "\n",
        "ранее метод назывался ```.append()```\n",
        "\n",
        "но скоро его удалят из библиотеки, так что сразу пробуем ```.concat()```"
      ]
    },
    {
      "cell_type": "code",
      "execution_count": 16,
      "metadata": {
        "id": "nWBEDV_X0rVB",
        "colab": {
          "base_uri": "https://localhost:8080/",
          "height": 245
        },
        "outputId": "bf3a3119-8a2e-4a4f-c9a4-bc206f647f8a"
      },
      "outputs": [
        {
          "output_type": "error",
          "ename": "NameError",
          "evalue": "ignored",
          "traceback": [
            "\u001b[0;31m---------------------------------------------------------------------------\u001b[0m",
            "\u001b[0;31mNameError\u001b[0m                                 Traceback (most recent call last)",
            "\u001b[0;32m<ipython-input-16-16932075bd18>\u001b[0m in \u001b[0;36m<cell line: 1>\u001b[0;34m()\u001b[0m\n\u001b[0;32m----> 1\u001b[0;31m df = pd.DataFrame.from_dict({\"Alice\": [\"NY\", 36, \"Engineer\", \"MA\"]},\n\u001b[0m\u001b[1;32m      2\u001b[0m                            \u001b[0morient\u001b[0m \u001b[0;34m=\u001b[0m \u001b[0;34m\"index\"\u001b[0m\u001b[0;34m,\u001b[0m\u001b[0;34m\u001b[0m\u001b[0;34m\u001b[0m\u001b[0m\n\u001b[1;32m      3\u001b[0m                            columns = postcards.columns)\n\u001b[1;32m      4\u001b[0m \u001b[0;34m\u001b[0m\u001b[0m\n\u001b[1;32m      5\u001b[0m \u001b[0mdf\u001b[0m \u001b[0;31m# создали датафрейм с одной строкой\u001b[0m\u001b[0;34m\u001b[0m\u001b[0;34m\u001b[0m\u001b[0m\n",
            "\u001b[0;31mNameError\u001b[0m: name 'pd' is not defined"
          ]
        }
      ],
      "source": [
        "df = pd.DataFrame.from_dict({\"Alice\": [\"NY\", 36, \"Engineer\", \"MA\"]},\n",
        "                           orient = \"index\",\n",
        "                           columns = postcards.columns)\n",
        "\n",
        "df # создали датафрейм с одной строкой\n",
        "\n",
        "# print(df)"
      ]
    },
    {
      "cell_type": "code",
      "source": [
        "df = pd.DataFrame([\"NY\", 36, \"Engineer\", \"MA\"]).T\n",
        "df.index = [\"Alice\"]\n",
        "df.columns = postcards.columns\n",
        "df\n",
        "\n",
        "# print(df)"
      ],
      "metadata": {
        "id": "S9dSadDvLFAF",
        "colab": {
          "base_uri": "https://localhost:8080/",
          "height": 245
        },
        "outputId": "aac067dd-98df-4e3c-a489-1a5f1b5880a2"
      },
      "execution_count": 17,
      "outputs": [
        {
          "output_type": "error",
          "ename": "NameError",
          "evalue": "ignored",
          "traceback": [
            "\u001b[0;31m---------------------------------------------------------------------------\u001b[0m",
            "\u001b[0;31mNameError\u001b[0m                                 Traceback (most recent call last)",
            "\u001b[0;32m<ipython-input-17-da3e53633b7d>\u001b[0m in \u001b[0;36m<cell line: 1>\u001b[0;34m()\u001b[0m\n\u001b[0;32m----> 1\u001b[0;31m \u001b[0mdf\u001b[0m \u001b[0;34m=\u001b[0m \u001b[0mpd\u001b[0m\u001b[0;34m.\u001b[0m\u001b[0mDataFrame\u001b[0m\u001b[0;34m(\u001b[0m\u001b[0;34m[\u001b[0m\u001b[0;34m\"NY\"\u001b[0m\u001b[0;34m,\u001b[0m \u001b[0;36m36\u001b[0m\u001b[0;34m,\u001b[0m \u001b[0;34m\"Engineer\"\u001b[0m\u001b[0;34m,\u001b[0m \u001b[0;34m\"MA\"\u001b[0m\u001b[0;34m]\u001b[0m\u001b[0;34m)\u001b[0m\u001b[0;34m.\u001b[0m\u001b[0mT\u001b[0m\u001b[0;34m\u001b[0m\u001b[0;34m\u001b[0m\u001b[0m\n\u001b[0m\u001b[1;32m      2\u001b[0m \u001b[0mdf\u001b[0m\u001b[0;34m.\u001b[0m\u001b[0mindex\u001b[0m \u001b[0;34m=\u001b[0m \u001b[0;34m[\u001b[0m\u001b[0;34m\"Alice\"\u001b[0m\u001b[0;34m]\u001b[0m\u001b[0;34m\u001b[0m\u001b[0;34m\u001b[0m\u001b[0m\n\u001b[1;32m      3\u001b[0m \u001b[0mdf\u001b[0m\u001b[0;34m.\u001b[0m\u001b[0mcolumns\u001b[0m \u001b[0;34m=\u001b[0m \u001b[0mpostcards\u001b[0m\u001b[0;34m.\u001b[0m\u001b[0mcolumns\u001b[0m\u001b[0;34m\u001b[0m\u001b[0;34m\u001b[0m\u001b[0m\n\u001b[1;32m      4\u001b[0m \u001b[0mdf\u001b[0m\u001b[0;34m\u001b[0m\u001b[0;34m\u001b[0m\u001b[0m\n\u001b[1;32m      5\u001b[0m \u001b[0;34m\u001b[0m\u001b[0m\n",
            "\u001b[0;31mNameError\u001b[0m: name 'pd' is not defined"
          ]
        }
      ]
    },
    {
      "cell_type": "code",
      "execution_count": 18,
      "metadata": {
        "tags": [],
        "id": "QecwxyvRELXX",
        "colab": {
          "base_uri": "https://localhost:8080/",
          "height": 227
        },
        "outputId": "193b4979-89f8-47a1-f7d6-9c8b8f6ce5d7"
      },
      "outputs": [
        {
          "output_type": "error",
          "ename": "NameError",
          "evalue": "ignored",
          "traceback": [
            "\u001b[0;31m---------------------------------------------------------------------------\u001b[0m",
            "\u001b[0;31mNameError\u001b[0m                                 Traceback (most recent call last)",
            "\u001b[0;32m<ipython-input-18-bddf3b12803e>\u001b[0m in \u001b[0;36m<cell line: 4>\u001b[0;34m()\u001b[0m\n\u001b[1;32m      2\u001b[0m \u001b[0;31m# сначала посмотрим\u001b[0m\u001b[0;34m\u001b[0m\u001b[0;34m\u001b[0m\u001b[0m\n\u001b[1;32m      3\u001b[0m \u001b[0;34m\u001b[0m\u001b[0m\n\u001b[0;32m----> 4\u001b[0;31m \u001b[0mpd\u001b[0m\u001b[0;34m.\u001b[0m\u001b[0mconcat\u001b[0m\u001b[0;34m(\u001b[0m\u001b[0;34m[\u001b[0m\u001b[0mpostcards\u001b[0m\u001b[0;34m,\u001b[0m \u001b[0mdf\u001b[0m\u001b[0;34m]\u001b[0m\u001b[0;34m)\u001b[0m\u001b[0;34m\u001b[0m\u001b[0;34m\u001b[0m\u001b[0m\n\u001b[0m\u001b[1;32m      5\u001b[0m \u001b[0;31m# print(pd.concat([postcards, df]))\u001b[0m\u001b[0;34m\u001b[0m\u001b[0;34m\u001b[0m\u001b[0m\n",
            "\u001b[0;31mNameError\u001b[0m: name 'pd' is not defined"
          ]
        }
      ],
      "source": [
        "# соединяем два df\n",
        "# сначала посмотрим\n",
        "\n",
        "pd.concat([postcards, df])\n",
        "# print(pd.concat([postcards, df]))"
      ]
    },
    {
      "cell_type": "code",
      "source": [
        "# все отлично, перезапишем перемнную postcards\n",
        "\n",
        "postcards = pd.concat([postcards, df])"
      ],
      "metadata": {
        "id": "w7UL41cNNY3K",
        "colab": {
          "base_uri": "https://localhost:8080/",
          "height": 210
        },
        "outputId": "101f3289-a874-472e-9d74-9bd56e91c69d"
      },
      "execution_count": 19,
      "outputs": [
        {
          "output_type": "error",
          "ename": "NameError",
          "evalue": "ignored",
          "traceback": [
            "\u001b[0;31m---------------------------------------------------------------------------\u001b[0m",
            "\u001b[0;31mNameError\u001b[0m                                 Traceback (most recent call last)",
            "\u001b[0;32m<ipython-input-19-5d9e3dd8328a>\u001b[0m in \u001b[0;36m<cell line: 3>\u001b[0;34m()\u001b[0m\n\u001b[1;32m      1\u001b[0m \u001b[0;31m# все отлично, перезапишем перемнную postcards\u001b[0m\u001b[0;34m\u001b[0m\u001b[0;34m\u001b[0m\u001b[0m\n\u001b[1;32m      2\u001b[0m \u001b[0;34m\u001b[0m\u001b[0m\n\u001b[0;32m----> 3\u001b[0;31m \u001b[0mpostcards\u001b[0m \u001b[0;34m=\u001b[0m \u001b[0mpd\u001b[0m\u001b[0;34m.\u001b[0m\u001b[0mconcat\u001b[0m\u001b[0;34m(\u001b[0m\u001b[0;34m[\u001b[0m\u001b[0mpostcards\u001b[0m\u001b[0;34m,\u001b[0m \u001b[0mdf\u001b[0m\u001b[0;34m]\u001b[0m\u001b[0;34m)\u001b[0m\u001b[0;34m\u001b[0m\u001b[0;34m\u001b[0m\u001b[0m\n\u001b[0m",
            "\u001b[0;31mNameError\u001b[0m: name 'pd' is not defined"
          ]
        }
      ]
    },
    {
      "cell_type": "markdown",
      "source": [
        "а теперь запустите ячейку выше несколько раз..."
      ],
      "metadata": {
        "id": "A2msr5vqNoZ3"
      }
    },
    {
      "cell_type": "markdown",
      "metadata": {
        "id": "ZESKs95y71Wy"
      },
      "source": [
        "### что делать, если добавились ненужные строки?"
      ]
    },
    {
      "cell_type": "markdown",
      "metadata": {
        "id": "EAH5dF12ELXX"
      },
      "source": [
        "Если есть дубликаты уже существующих строк, понадобится метод ```.drop_duplicates()```"
      ]
    },
    {
      "cell_type": "code",
      "execution_count": null,
      "metadata": {
        "id": "WB8VMk5P6Kmy",
        "tags": []
      },
      "outputs": [],
      "source": [
        "postcards.drop_duplicates(inplace=True)\n",
        "# postcards.drop_duplicates() только покажет, что случится, если удалить дубликаты\n",
        "# inplace=True приведет удаление в действие\n",
        "postcards\n",
        "\n",
        "# print(postcards)"
      ]
    },
    {
      "cell_type": "markdown",
      "metadata": {
        "id": "HINGxpZCELXY"
      },
      "source": [
        "Если удалить нужно любую строку или столбец, понадобится метод ```.drop()```\n",
        "- axis=0 если нужно удалить строку\n",
        "- axis=1 если нужно удалить колонку"
      ]
    },
    {
      "cell_type": "code",
      "execution_count": 20,
      "metadata": {
        "tags": [],
        "id": "w7hXOdTIELXY",
        "colab": {
          "base_uri": "https://localhost:8080/",
          "height": 175
        },
        "outputId": "a312d601-5000-4f24-9ec3-ed062c36ee9f"
      },
      "outputs": [
        {
          "output_type": "error",
          "ename": "NameError",
          "evalue": "ignored",
          "traceback": [
            "\u001b[0;31m---------------------------------------------------------------------------\u001b[0m",
            "\u001b[0;31mNameError\u001b[0m                                 Traceback (most recent call last)",
            "\u001b[0;32m<ipython-input-20-fc3645435c33>\u001b[0m in \u001b[0;36m<cell line: 1>\u001b[0;34m()\u001b[0m\n\u001b[0;32m----> 1\u001b[0;31m \u001b[0mpostcards\u001b[0m\u001b[0;34m.\u001b[0m\u001b[0mdrop\u001b[0m\u001b[0;34m(\u001b[0m\u001b[0;34m\"Mark\"\u001b[0m\u001b[0;34m,\u001b[0m \u001b[0maxis\u001b[0m\u001b[0;34m=\u001b[0m\u001b[0;36m0\u001b[0m\u001b[0;34m)\u001b[0m\u001b[0;34m\u001b[0m\u001b[0;34m\u001b[0m\u001b[0m\n\u001b[0m",
            "\u001b[0;31mNameError\u001b[0m: name 'postcards' is not defined"
          ]
        }
      ],
      "source": [
        "postcards.drop(\"Mark\", axis=0)"
      ]
    },
    {
      "cell_type": "code",
      "execution_count": 21,
      "metadata": {
        "id": "KCEHqP3SELXY",
        "colab": {
          "base_uri": "https://localhost:8080/",
          "height": 175
        },
        "outputId": "b2f45ae6-66c3-444e-d44d-7d87fd745624"
      },
      "outputs": [
        {
          "output_type": "error",
          "ename": "NameError",
          "evalue": "ignored",
          "traceback": [
            "\u001b[0;31m---------------------------------------------------------------------------\u001b[0m",
            "\u001b[0;31mNameError\u001b[0m                                 Traceback (most recent call last)",
            "\u001b[0;32m<ipython-input-21-c2ff9b0f310a>\u001b[0m in \u001b[0;36m<cell line: 1>\u001b[0;34m()\u001b[0m\n\u001b[0;32m----> 1\u001b[0;31m \u001b[0mpostcards\u001b[0m\u001b[0;34m.\u001b[0m\u001b[0mdrop\u001b[0m\u001b[0;34m(\u001b[0m\u001b[0;34m\"city\"\u001b[0m\u001b[0;34m,\u001b[0m \u001b[0maxis\u001b[0m\u001b[0;34m=\u001b[0m\u001b[0;36m1\u001b[0m\u001b[0;34m)\u001b[0m\u001b[0;34m\u001b[0m\u001b[0;34m\u001b[0m\u001b[0m\n\u001b[0m",
            "\u001b[0;31mNameError\u001b[0m: name 'postcards' is not defined"
          ]
        }
      ],
      "source": [
        "postcards.drop(\"city\", axis=1)"
      ]
    },
    {
      "cell_type": "markdown",
      "metadata": {
        "id": "d_6VoflXELXZ"
      },
      "source": [
        "Аналогично, чтобы изменения вступили в силу, реультат выражения нужно сохранить в переменную, либо добавить аргумент inplace=True"
      ]
    },
    {
      "cell_type": "code",
      "execution_count": 22,
      "metadata": {
        "id": "zXrYYFBwELXZ",
        "colab": {
          "base_uri": "https://localhost:8080/",
          "height": 192
        },
        "outputId": "01ea6b08-3cf9-4b5d-8a63-0cbe747bbaeb"
      },
      "outputs": [
        {
          "output_type": "error",
          "ename": "NameError",
          "evalue": "ignored",
          "traceback": [
            "\u001b[0;31m---------------------------------------------------------------------------\u001b[0m",
            "\u001b[0;31mNameError\u001b[0m                                 Traceback (most recent call last)",
            "\u001b[0;32m<ipython-input-22-4cd875d84287>\u001b[0m in \u001b[0;36m<cell line: 1>\u001b[0;34m()\u001b[0m\n\u001b[0;32m----> 1\u001b[0;31m \u001b[0mpostcards\u001b[0m\u001b[0;34m.\u001b[0m\u001b[0mdrop\u001b[0m\u001b[0;34m(\u001b[0m\u001b[0;34m\"city\"\u001b[0m\u001b[0;34m,\u001b[0m \u001b[0maxis\u001b[0m\u001b[0;34m=\u001b[0m\u001b[0;36m1\u001b[0m\u001b[0;34m,\u001b[0m \u001b[0minplace\u001b[0m\u001b[0;34m=\u001b[0m\u001b[0;32mTrue\u001b[0m\u001b[0;34m)\u001b[0m\u001b[0;34m\u001b[0m\u001b[0;34m\u001b[0m\u001b[0m\n\u001b[0m\u001b[1;32m      2\u001b[0m \u001b[0;31m# в этой ячейке можете попробовать\u001b[0m\u001b[0;34m\u001b[0m\u001b[0;34m\u001b[0m\u001b[0m\n",
            "\u001b[0;31mNameError\u001b[0m: name 'postcards' is not defined"
          ]
        }
      ],
      "source": [
        "postcards.drop(\"city\", axis=1, inplace=True)\n",
        "# в этой ячейке можете попробовать"
      ]
    },
    {
      "cell_type": "code",
      "source": [
        "# часто используют также:\n",
        "# postcards.dropna() - для удаления пропущенных\n",
        "# postcards.fillna(0) - для заполнения пропущенных, напр., нулями\n",
        "# postcards.isna() - для проверки, есть ли пропуски в данных\n",
        "# postcards.isna().sum() - количество пропусков по столбцам"
      ],
      "metadata": {
        "id": "y083AqAYQWH_"
      },
      "execution_count": 24,
      "outputs": []
    },
    {
      "cell_type": "markdown",
      "metadata": {
        "id": "ZDTCdrD6uhXl"
      },
      "source": [
        "### Сохранение датафрейма в файл"
      ]
    },
    {
      "cell_type": "code",
      "source": [
        "# df = pd.read_csv('название файла', sep=',')\n",
        "# открытие\n",
        "\n",
        "# df.to_csv('название.csv', sep=',', encoding='utf-8')"
      ],
      "metadata": {
        "id": "6TAl5jb8n-Rl"
      },
      "execution_count": 25,
      "outputs": []
    },
    {
      "cell_type": "code",
      "execution_count": 26,
      "metadata": {
        "id": "u-tvDza7T8ad",
        "colab": {
          "base_uri": "https://localhost:8080/",
          "height": 245
        },
        "outputId": "acbf0d56-544c-4c3e-b71d-fe17f6f88f28"
      },
      "outputs": [
        {
          "output_type": "error",
          "ename": "NameError",
          "evalue": "ignored",
          "traceback": [
            "\u001b[0;31m---------------------------------------------------------------------------\u001b[0m",
            "\u001b[0;31mNameError\u001b[0m                                 Traceback (most recent call last)",
            "\u001b[0;32m<ipython-input-26-78f8833182ec>\u001b[0m in \u001b[0;36m<cell line: 3>\u001b[0;34m()\u001b[0m\n\u001b[1;32m      1\u001b[0m \u001b[0;31m# сохраним в .csv файл\u001b[0m\u001b[0;34m\u001b[0m\u001b[0;34m\u001b[0m\u001b[0m\n\u001b[1;32m      2\u001b[0m \u001b[0;34m\u001b[0m\u001b[0m\n\u001b[0;32m----> 3\u001b[0;31m \u001b[0mpostcards\u001b[0m\u001b[0;34m.\u001b[0m\u001b[0mto_csv\u001b[0m\u001b[0;34m(\u001b[0m\u001b[0;34m'postcards.csv'\u001b[0m\u001b[0;34m,\u001b[0m \u001b[0mencoding\u001b[0m\u001b[0;34m=\u001b[0m\u001b[0;34m'utf-8'\u001b[0m\u001b[0;34m)\u001b[0m\u001b[0;34m\u001b[0m\u001b[0;34m\u001b[0m\u001b[0m\n\u001b[0m\u001b[1;32m      4\u001b[0m \u001b[0;34m\u001b[0m\u001b[0m\n\u001b[1;32m      5\u001b[0m \u001b[0mpostcards\u001b[0m\u001b[0;34m.\u001b[0m\u001b[0mto_excel\u001b[0m\u001b[0;34m(\u001b[0m\u001b[0;34m'postcards.xlsx'\u001b[0m\u001b[0;34m)\u001b[0m\u001b[0;34m\u001b[0m\u001b[0;34m\u001b[0m\u001b[0m\n",
            "\u001b[0;31mNameError\u001b[0m: name 'postcards' is not defined"
          ]
        }
      ],
      "source": [
        "# сохраним в .csv файл\n",
        "\n",
        "postcards.to_csv('postcards.csv', encoding='utf-8')\n",
        "\n",
        "postcards.to_excel('postcards.xlsx')"
      ]
    },
    {
      "cell_type": "markdown",
      "metadata": {
        "id": "IgtDJfqPKYiu"
      },
      "source": [
        "### Фильтры и прочие манипуляции"
      ]
    },
    {
      "cell_type": "code",
      "source": [
        "# посмотрим, кто работает шеф-поваром\n",
        "\n",
        "print(postcards[\"job\"] == \"Chef\")"
      ],
      "metadata": {
        "id": "OAhooQSrO0hk",
        "colab": {
          "base_uri": "https://localhost:8080/",
          "height": 210
        },
        "outputId": "55402d4d-c4f1-41cc-9378-5ffc4e87b123"
      },
      "execution_count": 27,
      "outputs": [
        {
          "output_type": "error",
          "ename": "NameError",
          "evalue": "ignored",
          "traceback": [
            "\u001b[0;31m---------------------------------------------------------------------------\u001b[0m",
            "\u001b[0;31mNameError\u001b[0m                                 Traceback (most recent call last)",
            "\u001b[0;32m<ipython-input-27-b6c09309526c>\u001b[0m in \u001b[0;36m<cell line: 3>\u001b[0;34m()\u001b[0m\n\u001b[1;32m      1\u001b[0m \u001b[0;31m# посмотрим, кто работает шеф-поваром\u001b[0m\u001b[0;34m\u001b[0m\u001b[0;34m\u001b[0m\u001b[0m\n\u001b[1;32m      2\u001b[0m \u001b[0;34m\u001b[0m\u001b[0m\n\u001b[0;32m----> 3\u001b[0;31m \u001b[0mprint\u001b[0m\u001b[0;34m(\u001b[0m\u001b[0mpostcards\u001b[0m\u001b[0;34m[\u001b[0m\u001b[0;34m\"job\"\u001b[0m\u001b[0;34m]\u001b[0m \u001b[0;34m==\u001b[0m \u001b[0;34m\"Chef\"\u001b[0m\u001b[0;34m)\u001b[0m\u001b[0;34m\u001b[0m\u001b[0;34m\u001b[0m\u001b[0m\n\u001b[0m",
            "\u001b[0;31mNameError\u001b[0m: name 'postcards' is not defined"
          ]
        }
      ]
    },
    {
      "cell_type": "code",
      "execution_count": null,
      "metadata": {
        "id": "9dQc2idIELXa"
      },
      "outputs": [],
      "source": [
        "# квадратные скобки создают подвыборку из датасета, удовлетворяющую условиям\n",
        "\n",
        "postcards[   postcards[\"job\"] == \"Chef\"  ]"
      ]
    },
    {
      "cell_type": "code",
      "execution_count": null,
      "metadata": {
        "id": "IZas6n3v3KOH",
        "tags": []
      },
      "outputs": [],
      "source": [
        "# поищем всех людей старше 40\n",
        "\n",
        "age_40 = postcards[   postcards[\"age\"] > 40  ]\n",
        "age_40\n",
        "\n",
        "# print(age_40)"
      ]
    },
    {
      "cell_type": "code",
      "execution_count": 28,
      "metadata": {
        "id": "hGKBGJL13r_K",
        "colab": {
          "base_uri": "https://localhost:8080/",
          "height": 245
        },
        "outputId": "121e95ae-83e3-4413-b05e-1875b9b5da8a"
      },
      "outputs": [
        {
          "output_type": "error",
          "ename": "NameError",
          "evalue": "ignored",
          "traceback": [
            "\u001b[0;31m---------------------------------------------------------------------------\u001b[0m",
            "\u001b[0;31mNameError\u001b[0m                                 Traceback (most recent call last)",
            "\u001b[0;32m<ipython-input-28-0c91ff0e861e>\u001b[0m in \u001b[0;36m<cell line: 6>\u001b[0;34m()\u001b[0m\n\u001b[1;32m      4\u001b[0m \u001b[0;31m# ищем, кто старше 30 и не работает шеф-поваром\u001b[0m\u001b[0;34m\u001b[0m\u001b[0;34m\u001b[0m\u001b[0m\n\u001b[1;32m      5\u001b[0m \u001b[0;34m\u001b[0m\u001b[0m\n\u001b[0;32m----> 6\u001b[0;31m \u001b[0mpostcards\u001b[0m\u001b[0;34m[\u001b[0m  \u001b[0;34m(\u001b[0m\u001b[0mpostcards\u001b[0m\u001b[0;34m[\u001b[0m\u001b[0;34m\"age\"\u001b[0m\u001b[0;34m]\u001b[0m \u001b[0;34m>\u001b[0m \u001b[0;36m30\u001b[0m\u001b[0;34m)\u001b[0m  \u001b[0;34m&\u001b[0m  \u001b[0;34m(\u001b[0m\u001b[0mpostcards\u001b[0m\u001b[0;34m[\u001b[0m\u001b[0;34m\"job\"\u001b[0m\u001b[0;34m]\u001b[0m \u001b[0;34m!=\u001b[0m \u001b[0;34m\"Chef\"\u001b[0m\u001b[0;34m)\u001b[0m  \u001b[0;34m]\u001b[0m\u001b[0;34m\u001b[0m\u001b[0;34m\u001b[0m\u001b[0m\n\u001b[0m\u001b[1;32m      7\u001b[0m \u001b[0;34m\u001b[0m\u001b[0m\n\u001b[1;32m      8\u001b[0m \u001b[0;31m# & | из темы множества\u001b[0m\u001b[0;34m\u001b[0m\u001b[0;34m\u001b[0m\u001b[0m\n",
            "\u001b[0;31mNameError\u001b[0m: name 'postcards' is not defined"
          ]
        }
      ],
      "source": [
        "# условия можно компоновать логическими операторами, но каждое отдельное условие берем в скобки ()\n",
        "# синтаксис: df[ (условие1) оператор (условие2) ]\n",
        "\n",
        "# ищем, кто старше 30 и не работает шеф-поваром\n",
        "\n",
        "postcards[  (postcards[\"age\"] > 30)  &  (postcards[\"job\"] != \"Chef\")  ]\n",
        "\n",
        "# & | из темы множества\n",
        "# обычные and, or, not не работают"
      ]
    },
    {
      "cell_type": "markdown",
      "metadata": {
        "id": "3oz0IY2oELXa"
      },
      "source": [
        "Над значениями в колонках можно производить различные операции:\n",
        "* например, арифметические (если данные количественные):"
      ]
    },
    {
      "cell_type": "code",
      "source": [
        "print(postcards[\"age\"].sum()) # работает всегда\n",
        "print(postcards.age.sum()) # краткая запись, работает с простыми названиями из 1 слова латиницей без пробелов"
      ],
      "metadata": {
        "id": "xkQ_qCTfbU_q",
        "colab": {
          "base_uri": "https://localhost:8080/",
          "height": 210
        },
        "outputId": "8bb64048-3ac5-4f5b-8aba-b2a4b6182b59"
      },
      "execution_count": 29,
      "outputs": [
        {
          "output_type": "error",
          "ename": "NameError",
          "evalue": "ignored",
          "traceback": [
            "\u001b[0;31m---------------------------------------------------------------------------\u001b[0m",
            "\u001b[0;31mNameError\u001b[0m                                 Traceback (most recent call last)",
            "\u001b[0;32m<ipython-input-29-1f7ea15e842f>\u001b[0m in \u001b[0;36m<cell line: 1>\u001b[0;34m()\u001b[0m\n\u001b[0;32m----> 1\u001b[0;31m \u001b[0mprint\u001b[0m\u001b[0;34m(\u001b[0m\u001b[0mpostcards\u001b[0m\u001b[0;34m[\u001b[0m\u001b[0;34m\"age\"\u001b[0m\u001b[0;34m]\u001b[0m\u001b[0;34m.\u001b[0m\u001b[0msum\u001b[0m\u001b[0;34m(\u001b[0m\u001b[0;34m)\u001b[0m\u001b[0;34m)\u001b[0m \u001b[0;31m# работает всегда\u001b[0m\u001b[0;34m\u001b[0m\u001b[0;34m\u001b[0m\u001b[0m\n\u001b[0m\u001b[1;32m      2\u001b[0m \u001b[0mprint\u001b[0m\u001b[0;34m(\u001b[0m\u001b[0mpostcards\u001b[0m\u001b[0;34m.\u001b[0m\u001b[0mage\u001b[0m\u001b[0;34m.\u001b[0m\u001b[0msum\u001b[0m\u001b[0;34m(\u001b[0m\u001b[0;34m)\u001b[0m\u001b[0;34m)\u001b[0m \u001b[0;31m# краткая запись, работает с простыми названиями из 1 слова латиницей без пробелов\u001b[0m\u001b[0;34m\u001b[0m\u001b[0;34m\u001b[0m\u001b[0m\n",
            "\u001b[0;31mNameError\u001b[0m: name 'postcards' is not defined"
          ]
        }
      ]
    },
    {
      "cell_type": "code",
      "execution_count": 31,
      "metadata": {
        "id": "pqvjgc9-4c5G",
        "colab": {
          "base_uri": "https://localhost:8080/",
          "height": 227
        },
        "outputId": "55ffc7f7-126f-474e-ae13-e40900412d15"
      },
      "outputs": [
        {
          "output_type": "error",
          "ename": "NameError",
          "evalue": "ignored",
          "traceback": [
            "\u001b[0;31m---------------------------------------------------------------------------\u001b[0m",
            "\u001b[0;31mNameError\u001b[0m                                 Traceback (most recent call last)",
            "\u001b[0;32m<ipython-input-31-c46fefa87d20>\u001b[0m in \u001b[0;36m<cell line: 1>\u001b[0;34m()\u001b[0m\n\u001b[0;32m----> 1\u001b[0;31m \u001b[0mprint\u001b[0m\u001b[0;34m(\u001b[0m\u001b[0mpostcards\u001b[0m\u001b[0;34m.\u001b[0m\u001b[0mage\u001b[0m\u001b[0;34m.\u001b[0m\u001b[0msum\u001b[0m\u001b[0;34m(\u001b[0m\u001b[0;34m)\u001b[0m\u001b[0;34m)\u001b[0m\u001b[0;34m\u001b[0m\u001b[0;34m\u001b[0m\u001b[0m\n\u001b[0m\u001b[1;32m      2\u001b[0m \u001b[0mprint\u001b[0m\u001b[0;34m(\u001b[0m\u001b[0mpostcards\u001b[0m\u001b[0;34m.\u001b[0m\u001b[0mage\u001b[0m\u001b[0;34m.\u001b[0m\u001b[0mmean\u001b[0m\u001b[0;34m(\u001b[0m\u001b[0;34m)\u001b[0m\u001b[0;34m)\u001b[0m\u001b[0;34m\u001b[0m\u001b[0;34m\u001b[0m\u001b[0m\n\u001b[1;32m      3\u001b[0m \u001b[0mprint\u001b[0m\u001b[0;34m(\u001b[0m\u001b[0mpostcards\u001b[0m\u001b[0;34m.\u001b[0m\u001b[0mage\u001b[0m\u001b[0;34m.\u001b[0m\u001b[0mmin\u001b[0m\u001b[0;34m(\u001b[0m\u001b[0;34m)\u001b[0m\u001b[0;34m)\u001b[0m\u001b[0;34m\u001b[0m\u001b[0;34m\u001b[0m\u001b[0m\n\u001b[1;32m      4\u001b[0m \u001b[0mprint\u001b[0m\u001b[0;34m(\u001b[0m\u001b[0mpostcards\u001b[0m\u001b[0;34m.\u001b[0m\u001b[0mage\u001b[0m\u001b[0;34m.\u001b[0m\u001b[0mmax\u001b[0m\u001b[0;34m(\u001b[0m\u001b[0;34m)\u001b[0m\u001b[0;34m)\u001b[0m\u001b[0;34m\u001b[0m\u001b[0;34m\u001b[0m\u001b[0m\n",
            "\u001b[0;31mNameError\u001b[0m: name 'postcards' is not defined"
          ]
        }
      ],
      "source": [
        "print(postcards.age.sum())\n",
        "print(postcards.age.mean())\n",
        "print(postcards.age.min())\n",
        "print(postcards.age.max())"
      ]
    },
    {
      "cell_type": "code",
      "source": [
        "postcards.describe()\n",
        "\n",
        "# print(postcards.describe())"
      ],
      "metadata": {
        "id": "EJkl-AYsPjlO",
        "colab": {
          "base_uri": "https://localhost:8080/",
          "height": 210
        },
        "outputId": "4a9c4803-49fb-4c82-8349-e20c118d537a"
      },
      "execution_count": 30,
      "outputs": [
        {
          "output_type": "error",
          "ename": "NameError",
          "evalue": "ignored",
          "traceback": [
            "\u001b[0;31m---------------------------------------------------------------------------\u001b[0m",
            "\u001b[0;31mNameError\u001b[0m                                 Traceback (most recent call last)",
            "\u001b[0;32m<ipython-input-30-088007beb620>\u001b[0m in \u001b[0;36m<cell line: 1>\u001b[0;34m()\u001b[0m\n\u001b[0;32m----> 1\u001b[0;31m \u001b[0mpostcards\u001b[0m\u001b[0;34m.\u001b[0m\u001b[0mdescribe\u001b[0m\u001b[0;34m(\u001b[0m\u001b[0;34m)\u001b[0m\u001b[0;34m\u001b[0m\u001b[0;34m\u001b[0m\u001b[0m\n\u001b[0m\u001b[1;32m      2\u001b[0m \u001b[0;34m\u001b[0m\u001b[0m\n\u001b[1;32m      3\u001b[0m \u001b[0;31m# print(postcards.describe())\u001b[0m\u001b[0;34m\u001b[0m\u001b[0;34m\u001b[0m\u001b[0m\n",
            "\u001b[0;31mNameError\u001b[0m: name 'postcards' is not defined"
          ]
        }
      ]
    },
    {
      "cell_type": "markdown",
      "metadata": {
        "id": "589isE_EELXb"
      },
      "source": [
        "Если данные категориальные, можно искать уникальные значения, упорядочивать по алфавиту и тд"
      ]
    },
    {
      "cell_type": "code",
      "execution_count": null,
      "metadata": {
        "id": "EtS4vzvcELXb"
      },
      "outputs": [],
      "source": [
        "print(postcards.job.values) # все значения\n",
        "print(postcards.job.unique()) # все уникальные в колонке\n",
        "print(postcards.job.nunique()) # сколько уникальных в колонке"
      ]
    },
    {
      "cell_type": "code",
      "source": [
        "print(postcards.job.value_counts()) # число повторов"
      ],
      "metadata": {
        "id": "mCPs82GNP2Vh"
      },
      "execution_count": null,
      "outputs": []
    },
    {
      "cell_type": "code",
      "source": [
        "print(postcards.job.sort_values()) # сортировка"
      ],
      "metadata": {
        "id": "n0xij4ADP4O_"
      },
      "execution_count": null,
      "outputs": []
    },
    {
      "cell_type": "markdown",
      "source": [
        "### Зачем работать с pandas на курсе:\n",
        "\n",
        "* данные могут прийти к вам в табличном формате\n",
        "* свои данные часто удобно собирать в таблицы с текстовым столбцом, а не в txt\n",
        "* иногда для ваших расчетов удобно в один столбец сохранять токены / предложения / абзацы, в другой - какой-нибудь показатель или коэффициент"
      ],
      "metadata": {
        "id": "kTU1GZWCR78P"
      }
    },
    {
      "cell_type": "code",
      "source": [
        "# то, что мы видели в твитах Илона Маска\n",
        "print(postcards.job.to_list())"
      ],
      "metadata": {
        "id": "kmyssXk5R6XQ"
      },
      "execution_count": null,
      "outputs": []
    },
    {
      "cell_type": "markdown",
      "source": [
        "### Задание 1: пингвины\n",
        "\n",
        "Помните задание на пингвинчиков, где нужно было перебрать их виды по индексу, оставить уникальные, а затем посчитать частоты?\n",
        "\n",
        "Сделайте с pandas в одну строку!)"
      ],
      "metadata": {
        "id": "cHEnTv6SUBvy"
      }
    },
    {
      "cell_type": "code",
      "source": [
        "df = pd.read_csv('https://raw.githubusercontent.com/AnnSenina/Python_CL_2023/main/data/penguins.csv')\n",
        "df # print(df)"
      ],
      "metadata": {
        "id": "KlexyNKlUBAQ",
        "colab": {
          "base_uri": "https://localhost:8080/",
          "height": 192
        },
        "outputId": "bd178a48-6275-4229-8053-b3585d4fee3b"
      },
      "execution_count": 33,
      "outputs": [
        {
          "output_type": "error",
          "ename": "NameError",
          "evalue": "ignored",
          "traceback": [
            "\u001b[0;31m---------------------------------------------------------------------------\u001b[0m",
            "\u001b[0;31mNameError\u001b[0m                                 Traceback (most recent call last)",
            "\u001b[0;32m<ipython-input-33-fcf3cf85fadb>\u001b[0m in \u001b[0;36m<cell line: 1>\u001b[0;34m()\u001b[0m\n\u001b[0;32m----> 1\u001b[0;31m \u001b[0mdf\u001b[0m \u001b[0;34m=\u001b[0m \u001b[0mpd\u001b[0m\u001b[0;34m.\u001b[0m\u001b[0mread_csv\u001b[0m\u001b[0;34m(\u001b[0m\u001b[0;34m'https://raw.githubusercontent.com/AnnSenina/Python_CL_2023/main/data/penguins.csv'\u001b[0m\u001b[0;34m)\u001b[0m\u001b[0;34m\u001b[0m\u001b[0;34m\u001b[0m\u001b[0m\n\u001b[0m\u001b[1;32m      2\u001b[0m \u001b[0mdf\u001b[0m \u001b[0;31m# print(df)\u001b[0m\u001b[0;34m\u001b[0m\u001b[0;34m\u001b[0m\u001b[0m\n",
            "\u001b[0;31mNameError\u001b[0m: name 'pd' is not defined"
          ]
        }
      ]
    },
    {
      "cell_type": "code",
      "source": [
        "# ваш код здесь\n"
      ],
      "metadata": {
        "id": "kpxmg4AgUdPG"
      },
      "execution_count": null,
      "outputs": []
    },
    {
      "cell_type": "markdown",
      "source": [
        "### Задание 2: колонии\n",
        "\n",
        "Вы работаете с датасетом от Гарвардского университета, в котором хранится информация о государствах - бывших колониях. Посчитайте:\n",
        "* количество этих государств (Country Name)\n",
        "* среднюю продолжительность колониального периода (COLYEARS)\n",
        "* максимальную продолжительность зависимости (COLYEARS)\n",
        "* количество государств, в которых деколонизация была длительной ('decolonization' - 'long')\n",
        "\n",
        "Скачать данные можно здесь: https://raw.githubusercontent.com/AnnSenina/Python_CL_2023/main/data/Colonial.csv"
      ],
      "metadata": {
        "id": "EAMUkgzxOW7V"
      }
    },
    {
      "cell_type": "code",
      "source": [
        "# ваш код здесь\n",
        "df = pd.read_csv('https://raw.githubusercontent.com/AnnSenina/Python_CL_2023/main/data/Colonial.csv', sep=';')\n",
        "df # print(df)\n"
      ],
      "metadata": {
        "id": "dPEtW7NRQV-E"
      },
      "execution_count": null,
      "outputs": []
    },
    {
      "cell_type": "code",
      "source": [],
      "metadata": {
        "id": "QbxMhdIcqOTx"
      },
      "execution_count": null,
      "outputs": []
    },
    {
      "cell_type": "code",
      "source": [],
      "metadata": {
        "id": "59aS4UOkqOI_"
      },
      "execution_count": null,
      "outputs": []
    },
    {
      "cell_type": "code",
      "source": [],
      "metadata": {
        "id": "fX3gacewqOFe"
      },
      "execution_count": null,
      "outputs": []
    },
    {
      "cell_type": "markdown",
      "source": [
        "### Задание 3: тревожность и телевидение\n",
        "\n",
        "Вы изучаете взаимосвязь тревожности и просмотра телевиденья. Вам необходимо расчитать следующие характеристики:\n",
        "\n",
        "* Сколько человек приняло участие в исследовании?\n",
        "* Каков минимальный и максимальный возраст участников?\n",
        "* Сколько в выборке женщин?\n",
        "* Какое среднее значение тревожности наблюдается в данных?\n",
        "\n",
        "Скачать данные можно здесь: https://raw.githubusercontent.com/AnnSenina/Python_CL_2023/main/data/socio.csv"
      ],
      "metadata": {
        "id": "9bUqPFz9QXYz"
      }
    },
    {
      "cell_type": "code",
      "source": [
        "# ваш код здесь\n",
        "df = pd.read_csv('https://raw.githubusercontent.com/AnnSenina/Python_CL_2023/main/data/socio.csv')\n",
        "df # print(df)\n"
      ],
      "metadata": {
        "id": "z7mbp3iFVwTK"
      },
      "execution_count": null,
      "outputs": []
    },
    {
      "cell_type": "code",
      "source": [],
      "metadata": {
        "id": "qytaCfh2n5To"
      },
      "execution_count": null,
      "outputs": []
    },
    {
      "cell_type": "code",
      "source": [],
      "metadata": {
        "id": "P_W8CN3qn5OC"
      },
      "execution_count": null,
      "outputs": []
    },
    {
      "cell_type": "code",
      "source": [],
      "metadata": {
        "id": "6wuFemiIn5IM"
      },
      "execution_count": null,
      "outputs": []
    },
    {
      "cell_type": "markdown",
      "source": [
        "### Задание 4: пропавшие мигранты\n",
        "\n",
        "Набор данных собран и подготовлен в рамках проекта «Пропавшие мигранты» — инициативы, реализуемой International Organization for Migration (IOM) с 2014 года. Документируются случаи смертей и исчезновений, произошедших с мигрантами во время международных поездок\n",
        "\n",
        "* Постройте частотную таблицу (метод .value_counts()) по столбцу \"Incident year\". Что можно сказать о данных за 2023 год? Количество происшествий уменьшилось по сравнению с прошлым годом?\n",
        "* В каких регионах (Region of Incident) происходит больше всего происшествий?\n",
        "* В каком регионе (Region of Incident) больше всего происшествий с неизвестной причиной смерти (Cause of Death - Mixed or unknown)?\n",
        "\n",
        "Скачать данные можно здесь: https://raw.githubusercontent.com/AnnSenina/Python_CL_2023/main/data/Migrants.csv"
      ],
      "metadata": {
        "id": "OKN3dL3iVfJa"
      }
    },
    {
      "cell_type": "code",
      "source": [
        "# ваш код здесь\n",
        "df = pd.read_csv('https://raw.githubusercontent.com/AnnSenina/Python_CL_2023/main/data/Migrants.csv')\n",
        "df # print(df)"
      ],
      "metadata": {
        "id": "leLKBWs7VeVd"
      },
      "execution_count": null,
      "outputs": []
    },
    {
      "cell_type": "code",
      "source": [],
      "metadata": {
        "id": "BN6dftw0ZCio"
      },
      "execution_count": null,
      "outputs": []
    },
    {
      "cell_type": "code",
      "source": [],
      "metadata": {
        "id": "NZ4bAWg4ZCgX"
      },
      "execution_count": null,
      "outputs": []
    },
    {
      "cell_type": "code",
      "source": [],
      "metadata": {
        "id": "Wl_CbH0dZCdP"
      },
      "execution_count": null,
      "outputs": []
    },
    {
      "cell_type": "markdown",
      "source": [
        "### Задание 5: твиты Трампа\n",
        "\n",
        "* предобработайте твиты\n",
        "* найдите самое частотные биграммы (напр., 30)\n",
        "* постройте облако слов\n",
        "\n",
        "Данные можно скачать здесь: https://raw.githubusercontent.com/AnnSenina/Python_CL_2023/main/data/trump.csv"
      ],
      "metadata": {
        "id": "WgSjI1JoXD5Y"
      }
    },
    {
      "cell_type": "code",
      "source": [
        "df = pd.read_csv('https://raw.githubusercontent.com/AnnSenina/Python_CL_2023/main/data/trump.csv')\n",
        "df # print(df)\n"
      ],
      "metadata": {
        "id": "3RwLZUkmYa5N"
      },
      "execution_count": null,
      "outputs": []
    },
    {
      "cell_type": "code",
      "source": [],
      "metadata": {
        "id": "Bm9M2DghZBJh"
      },
      "execution_count": null,
      "outputs": []
    },
    {
      "cell_type": "code",
      "source": [],
      "metadata": {
        "id": "ILZ2f675ZBGD"
      },
      "execution_count": null,
      "outputs": []
    },
    {
      "cell_type": "code",
      "source": [],
      "metadata": {
        "id": "vWH6XGg4ZBCp"
      },
      "execution_count": null,
      "outputs": []
    }
  ],
  "metadata": {
    "colab": {
      "provenance": [],
      "include_colab_link": true
    },
    "kernelspec": {
      "display_name": "Python 3 (ipykernel)",
      "language": "python",
      "name": "python3"
    },
    "language_info": {
      "codemirror_mode": {
        "name": "ipython",
        "version": 3
      },
      "file_extension": ".py",
      "mimetype": "text/x-python",
      "name": "python",
      "nbconvert_exporter": "python",
      "pygments_lexer": "ipython3",
      "version": "3.10.0"
    }
  },
  "nbformat": 4,
  "nbformat_minor": 0
}